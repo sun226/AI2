{
  "nbformat": 4,
  "nbformat_minor": 0,
  "metadata": {
    "colab": {
      "name": " c.customLoad응용",
      "provenance": [],
      "collapsed_sections": [],
      "mount_file_id": "1T1Ni8ELPDZsM4sBELcQlLXq4zJhSThX0",
      "authorship_tag": "ABX9TyMgeNIj9fApcCy1opSrK/QM",
      "include_colab_link": true
    },
    "kernelspec": {
      "name": "python3",
      "display_name": "Python 3"
    },
    "language_info": {
      "name": "python"
    }
  },
  "cells": [
    {
      "cell_type": "markdown",
      "metadata": {
        "id": "view-in-github",
        "colab_type": "text"
      },
      "source": [
        "<a href=\"https://colab.research.google.com/github/sun226/AI2/blob/main/c_customLoad%EC%9D%91%EC%9A%A9.ipynb\" target=\"_parent\"><img src=\"https://colab.research.google.com/assets/colab-badge.svg\" alt=\"Open In Colab\"/></a>"
      ]
    },
    {
      "cell_type": "code",
      "execution_count": 1,
      "metadata": {
        "id": "2Fr5LrowvR4w"
      },
      "outputs": [],
      "source": [
        "def CropImgSquare(img):\n",
        "  \n",
        "  small_len = min(img.width, img.height)\n",
        "\n",
        "  cx, cy = img.width/2, img.height/2\n",
        "  d = small_len/2\n",
        "\n",
        "  (left, upper, right, lower) = (cx-d, cy-d, cx+d, cy+d)\n",
        "  img = img.crop((left, upper, right, lower))\n",
        "\n",
        "  return img\n"
      ]
    },
    {
      "cell_type": "code",
      "source": [
        "dir = img_dir + \"dogs/imgages (2).jpeg\"\n",
        "img = Image.open(dir) \n",
        "plt.Image(img)\n",
        "plt.show()\n",
        "\n",
        "print(img.width, img.height)\n",
        "\n",
        "img = CropImgSquare(img)\n",
        "\n",
        "plt.imshow(img)\n",
        "plt.show()\n",
        "\n",
        "print(img.width, img.height)\n"
      ],
      "metadata": {
        "colab": {
          "base_uri": "https://localhost:8080/",
          "height": 248
        },
        "id": "P0JbEyPxdTMs",
        "outputId": "ae1ac392-9726-4c0f-f444-cc5bf8c2aef0"
      },
      "execution_count": 2,
      "outputs": [
        {
          "output_type": "error",
          "ename": "NameError",
          "evalue": "ignored",
          "traceback": [
            "\u001b[0;31m---------------------------------------------------------------------------\u001b[0m",
            "\u001b[0;31mNameError\u001b[0m                                 Traceback (most recent call last)",
            "\u001b[0;32m<ipython-input-2-326bcb8b9d35>\u001b[0m in \u001b[0;36m<module>\u001b[0;34m()\u001b[0m\n\u001b[0;32m----> 1\u001b[0;31m \u001b[0mdir\u001b[0m \u001b[0;34m=\u001b[0m \u001b[0mimg_dir\u001b[0m \u001b[0;34m+\u001b[0m \u001b[0;34m\"dogs/imgages (2).jpeg\"\u001b[0m\u001b[0;34m\u001b[0m\u001b[0;34m\u001b[0m\u001b[0m\n\u001b[0m\u001b[1;32m      2\u001b[0m \u001b[0mimg\u001b[0m \u001b[0;34m=\u001b[0m \u001b[0mImage\u001b[0m\u001b[0;34m.\u001b[0m\u001b[0mopen\u001b[0m\u001b[0;34m(\u001b[0m\u001b[0mdir\u001b[0m\u001b[0;34m)\u001b[0m\u001b[0;34m\u001b[0m\u001b[0;34m\u001b[0m\u001b[0m\n\u001b[1;32m      3\u001b[0m \u001b[0mplt\u001b[0m\u001b[0;34m.\u001b[0m\u001b[0mImage\u001b[0m\u001b[0;34m(\u001b[0m\u001b[0mimg\u001b[0m\u001b[0;34m)\u001b[0m\u001b[0;34m\u001b[0m\u001b[0;34m\u001b[0m\u001b[0m\n\u001b[1;32m      4\u001b[0m \u001b[0mplt\u001b[0m\u001b[0;34m.\u001b[0m\u001b[0mshow\u001b[0m\u001b[0;34m(\u001b[0m\u001b[0;34m)\u001b[0m\u001b[0;34m\u001b[0m\u001b[0;34m\u001b[0m\u001b[0m\n\u001b[1;32m      5\u001b[0m \u001b[0;34m\u001b[0m\u001b[0m\n",
            "\u001b[0;31mNameError\u001b[0m: name 'img_dir' is not defined"
          ]
        }
      ]
    },
    {
      "cell_type": "code",
      "source": [
        "class MyGetInfoFromFolder(Dataset):\n",
        "  def __init__ (self, ipath,\n",
        "                transform=transforms.ToTensor()):\n",
        "    self.classes, self.class_to_idx, self.lenght, self.flist, self.labels = MyGetInfoFromFolder(ipath)\n",
        "\n",
        "    self.root_dir = ipath\n",
        "    self.transform=transform\n",
        "\n",
        "    def __len__(self):\n",
        "      return self.length\n",
        "\n",
        "    def __getitem__(self, idx):\n",
        "      img = Image.open(self.flist[idx])\n",
        "\n",
        "      if (img.mode!=\"RGB\"):\n",
        "        img = img.convert(mode=\"RGB\")\n",
        "\n",
        "      img = CropImgSquare(img)\n",
        "\n",
        "      img = self.transform(img)\n",
        "\n",
        "      label = self.labels[idx]\n",
        "\n",
        "      return img, label"
      ],
      "metadata": {
        "id": "hWRmzHvSfEEl",
        "colab": {
          "base_uri": "https://localhost:8080/",
          "height": 248
        },
        "outputId": "7e361108-5f62-4057-be1a-7f83229530fe"
      },
      "execution_count": 3,
      "outputs": [
        {
          "output_type": "error",
          "ename": "NameError",
          "evalue": "ignored",
          "traceback": [
            "\u001b[0;31m---------------------------------------------------------------------------\u001b[0m",
            "\u001b[0;31mNameError\u001b[0m                                 Traceback (most recent call last)",
            "\u001b[0;32m<ipython-input-3-36bf9983fa6b>\u001b[0m in \u001b[0;36m<module>\u001b[0;34m()\u001b[0m\n\u001b[0;32m----> 1\u001b[0;31m \u001b[0;32mclass\u001b[0m \u001b[0mMyGetInfoFromFolder\u001b[0m\u001b[0;34m(\u001b[0m\u001b[0mDataset\u001b[0m\u001b[0;34m)\u001b[0m\u001b[0;34m:\u001b[0m\u001b[0;34m\u001b[0m\u001b[0;34m\u001b[0m\u001b[0m\n\u001b[0m\u001b[1;32m      2\u001b[0m   def __init__ (self, ipath,\n\u001b[1;32m      3\u001b[0m                 transform=transforms.ToTensor()):\n\u001b[1;32m      4\u001b[0m     \u001b[0mself\u001b[0m\u001b[0;34m.\u001b[0m\u001b[0mclasses\u001b[0m\u001b[0;34m,\u001b[0m \u001b[0mself\u001b[0m\u001b[0;34m.\u001b[0m\u001b[0mclass_to_idx\u001b[0m\u001b[0;34m,\u001b[0m \u001b[0mself\u001b[0m\u001b[0;34m.\u001b[0m\u001b[0mlenght\u001b[0m\u001b[0;34m,\u001b[0m \u001b[0mself\u001b[0m\u001b[0;34m.\u001b[0m\u001b[0mflist\u001b[0m\u001b[0;34m,\u001b[0m \u001b[0mself\u001b[0m\u001b[0;34m.\u001b[0m\u001b[0mlabels\u001b[0m \u001b[0;34m=\u001b[0m \u001b[0mMyGetInfoFromFolder\u001b[0m\u001b[0;34m(\u001b[0m\u001b[0mipath\u001b[0m\u001b[0;34m)\u001b[0m\u001b[0;34m\u001b[0m\u001b[0;34m\u001b[0m\u001b[0m\n\u001b[1;32m      5\u001b[0m \u001b[0;34m\u001b[0m\u001b[0m\n",
            "\u001b[0;31mNameError\u001b[0m: name 'Dataset' is not defined"
          ]
        }
      ]
    },
    {
      "cell_type": "code",
      "source": [
        "my_train = MyGetInfoFromFolder(img_dir,\n",
        "                               transforms.Compose([transforms.Resize((imgsize, imgsize)),\n",
        "                                                   transforms.ToTensor()]\n",
        "                               ))"
      ],
      "metadata": {
        "colab": {
          "base_uri": "https://localhost:8080/",
          "height": 229
        },
        "id": "3BkG4WNQJ-Q_",
        "outputId": "4f895080-2c5c-4588-db3d-a866f11963fc"
      },
      "execution_count": 4,
      "outputs": [
        {
          "output_type": "error",
          "ename": "NameError",
          "evalue": "ignored",
          "traceback": [
            "\u001b[0;31m---------------------------------------------------------------------------\u001b[0m",
            "\u001b[0;31mNameError\u001b[0m                                 Traceback (most recent call last)",
            "\u001b[0;32m<ipython-input-4-70b86c7fffd4>\u001b[0m in \u001b[0;36m<module>\u001b[0;34m()\u001b[0m\n\u001b[0;32m----> 1\u001b[0;31m my_train = MyGetInfoFromFolder(img_dir,\n\u001b[0m\u001b[1;32m      2\u001b[0m                                transforms.Compose([transforms.Resize((imgsize, imgsize)),\n\u001b[1;32m      3\u001b[0m                                                    transforms.ToTensor()]\n\u001b[1;32m      4\u001b[0m                                ))\n",
            "\u001b[0;31mNameError\u001b[0m: name 'MyGetInfoFromFolder' is not defined"
          ]
        }
      ]
    },
    {
      "cell_type": "code",
      "source": [
        "nclass = len(my_train.classes)\n",
        "print (\"# of classes(클래스 개수): %d\" %nclass)\n",
        "\n",
        "print (\"클래이 이름:\", my_train.classes)\n",
        "print (\"클래스별 인덱스:\", my_train.class_to_idx)\n",
        "print (\"my_train 개수:\", my_train.__len__())"
      ],
      "metadata": {
        "colab": {
          "base_uri": "https://localhost:8080/",
          "height": 248
        },
        "id": "grXpSEpaJ-Y1",
        "outputId": "0336c241-7794-4ca5-b76f-0e69cb9f37d6"
      },
      "execution_count": 5,
      "outputs": [
        {
          "output_type": "error",
          "ename": "NameError",
          "evalue": "ignored",
          "traceback": [
            "\u001b[0;31m---------------------------------------------------------------------------\u001b[0m",
            "\u001b[0;31mNameError\u001b[0m                                 Traceback (most recent call last)",
            "\u001b[0;32m<ipython-input-5-ec458881444c>\u001b[0m in \u001b[0;36m<module>\u001b[0;34m()\u001b[0m\n\u001b[0;32m----> 1\u001b[0;31m \u001b[0mnclass\u001b[0m \u001b[0;34m=\u001b[0m \u001b[0mlen\u001b[0m\u001b[0;34m(\u001b[0m\u001b[0mmy_train\u001b[0m\u001b[0;34m.\u001b[0m\u001b[0mclasses\u001b[0m\u001b[0;34m)\u001b[0m\u001b[0;34m\u001b[0m\u001b[0;34m\u001b[0m\u001b[0m\n\u001b[0m\u001b[1;32m      2\u001b[0m \u001b[0mprint\u001b[0m \u001b[0;34m(\u001b[0m\u001b[0;34m\"# of classes(클래스 개수): %d\"\u001b[0m \u001b[0;34m%\u001b[0m\u001b[0mnclass\u001b[0m\u001b[0;34m)\u001b[0m\u001b[0;34m\u001b[0m\u001b[0;34m\u001b[0m\u001b[0m\n\u001b[1;32m      3\u001b[0m \u001b[0;34m\u001b[0m\u001b[0m\n\u001b[1;32m      4\u001b[0m \u001b[0mprint\u001b[0m \u001b[0;34m(\u001b[0m\u001b[0;34m\"클래이 이름:\"\u001b[0m\u001b[0;34m,\u001b[0m \u001b[0mmy_train\u001b[0m\u001b[0;34m.\u001b[0m\u001b[0mclasses\u001b[0m\u001b[0;34m)\u001b[0m\u001b[0;34m\u001b[0m\u001b[0;34m\u001b[0m\u001b[0m\n\u001b[1;32m      5\u001b[0m \u001b[0mprint\u001b[0m \u001b[0;34m(\u001b[0m\u001b[0;34m\"클래스별 인덱스:\"\u001b[0m\u001b[0;34m,\u001b[0m \u001b[0mmy_train\u001b[0m\u001b[0;34m.\u001b[0m\u001b[0mclass_to_idx\u001b[0m\u001b[0;34m)\u001b[0m\u001b[0;34m\u001b[0m\u001b[0;34m\u001b[0m\u001b[0m\n",
            "\u001b[0;31mNameError\u001b[0m: name 'my_train' is not defined"
          ]
        }
      ]
    },
    {
      "cell_type": "code",
      "source": [
        "for i in range(3):\n",
        "  img = my_train[i][0]\n",
        "  img = np.transpose(img, 1,2,0))\n",
        "\n",
        "    plt.title(\"lavel: %d\" %my_train[i][1] )\n",
        "    plt.imshow(img)\n",
        "    plt.show()\n",
        "\n",
        "    print(img.shape)"
      ],
      "metadata": {
        "colab": {
          "base_uri": "https://localhost:8080/",
          "height": 137
        },
        "id": "iTMGX9UHJ-bC",
        "outputId": "a99c523f-9e48-4164-fdcd-5062b2fa6405"
      },
      "execution_count": 6,
      "outputs": [
        {
          "output_type": "error",
          "ename": "SyntaxError",
          "evalue": "ignored",
          "traceback": [
            "\u001b[0;36m  File \u001b[0;32m\"<ipython-input-6-22c82558c4dc>\"\u001b[0;36m, line \u001b[0;32m3\u001b[0m\n\u001b[0;31m    img = np.transpose(img, 1,2,0))\u001b[0m\n\u001b[0m                                  ^\u001b[0m\n\u001b[0;31mSyntaxError\u001b[0m\u001b[0;31m:\u001b[0m invalid syntax\n"
          ]
        }
      ]
    },
    {
      "cell_type": "code",
      "source": [
        ""
      ],
      "metadata": {
        "id": "nfjf7gGtJ-dY"
      },
      "execution_count": null,
      "outputs": []
    },
    {
      "cell_type": "code",
      "source": [
        ""
      ],
      "metadata": {
        "id": "1WSN04R_J-fh"
      },
      "execution_count": null,
      "outputs": []
    },
    {
      "cell_type": "code",
      "source": [
        ""
      ],
      "metadata": {
        "id": "sSQ1omQYJ-h2"
      },
      "execution_count": null,
      "outputs": []
    },
    {
      "cell_type": "code",
      "source": [
        ""
      ],
      "metadata": {
        "id": "E9Wr5dIWJ-j6"
      },
      "execution_count": null,
      "outputs": []
    },
    {
      "cell_type": "code",
      "source": [
        ""
      ],
      "metadata": {
        "id": "Vchs5AjRJ-mS"
      },
      "execution_count": null,
      "outputs": []
    }
  ]
}