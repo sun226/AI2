{
  "nbformat": 4,
  "nbformat_minor": 0,
  "metadata": {
    "colab": {
      "name": " b.customLoad.ipynb",
      "provenance": [],
      "collapsed_sections": [],
      "mount_file_id": "1iJmyGmMeHnHyFk1xlBtN2vdhYfa8Hl_0",
      "authorship_tag": "ABX9TyPikD6afTXzjzbrcnxB+Xt4",
      "include_colab_link": true
    },
    "kernelspec": {
      "name": "python3",
      "display_name": "Python 3"
    },
    "language_info": {
      "name": "python"
    }
  },
  "cells": [
    {
      "cell_type": "markdown",
      "metadata": {
        "id": "view-in-github",
        "colab_type": "text"
      },
      "source": [
        "<a href=\"https://colab.research.google.com/github/sun226/AI2/blob/main/b_customLoad.ipynb\" target=\"_parent\"><img src=\"https://colab.research.google.com/assets/colab-badge.svg\" alt=\"Open In Colab\"/></a>"
      ]
    },
    {
      "cell_type": "code",
      "execution_count": null,
      "metadata": {
        "id": "JFWC-IM2frl1"
      },
      "outputs": [],
      "source": [
        "import numpy as np\n",
        "import matplotlib.pyplot as plt\n",
        "\n",
        "import torch\n",
        "import torch.utils.data as data\n",
        "import torchvision.datasets as dset\n",
        "import torchvision.transforms as transforms\n",
        "from torch.utils.data import DataLoader\n",
        "\n",
        "from torch.autograd import Variable\n",
        "\n",
        "from PIL import Image\n"
      ]
    },
    {
      "cell_type": "code",
      "source": [
        "imgsize = 128"
      ],
      "metadata": {
        "id": "ogr24CEVf7uP"
      },
      "execution_count": null,
      "outputs": []
    },
    {
      "cell_type": "code",
      "source": [
        "img_dir = \"drive/MyDrive/my_catdog/train/\"\n",
        "\n"
      ],
      "metadata": {
        "id": "4cJK2uY3DvYs"
      },
      "execution_count": null,
      "outputs": []
    },
    {
      "cell_type": "code",
      "source": [
        "import os\n",
        "\n",
        "def MyGetInfoFromFolder(ipath):\n",
        "  classes = sorted(os.listdir(ipath))\n",
        "  class_to_idx = {}\n",
        "  length = 0\n",
        "  total_file_list=[]\n",
        "  total_label=[]\n",
        "\n",
        "  for i, c in enumerate(classes):\n",
        "    class_to_idx.update({c: i})\n",
        "\n",
        "    file_list = sorted(os.listdir(ipath + \"/\" + c))\n",
        "    length += len(file_list)\n",
        "\n",
        "    for f in file_list: \n",
        "      total_file_list.append(ipath + c + \"/\" +f)\n",
        "      total_label.append(i)\n",
        " \n",
        "   return classes, class_to_idx, length, total_file_list, total_label"
      ],
      "metadata": {
        "colab": {
          "base_uri": "https://localhost:8080/",
          "height": 137
        },
        "id": "mnQxvjdNgGAN",
        "outputId": "237421ae-5890-4f89-ee9c-e5c21424142d"
      },
      "execution_count": null,
      "outputs": [
        {
          "output_type": "error",
          "ename": "IndentationError",
          "evalue": "ignored",
          "traceback": [
            "\u001b[0;36m  File \u001b[0;32m\"<ipython-input-16-efa3e0470d23>\"\u001b[0;36m, line \u001b[0;32m20\u001b[0m\n\u001b[0;31m    return classes, class_to_idx, length, total_file_list, total_label\u001b[0m\n\u001b[0m                                                                      ^\u001b[0m\n\u001b[0;31mIndentationError\u001b[0m\u001b[0;31m:\u001b[0m unindent does not match any outer indentation level\n"
          ]
        }
      ]
    },
    {
      "cell_type": "code",
      "source": [
        "classes, class_to_idx, length, total_file_list, total_label = MyGetInfoFromFolder(img_dir)\n",
        "print(classes)\n",
        "print(class_to_idx)\n",
        "print(length)\n",
        "print(total_file_list[0])\n",
        "print(total_label[0])"
      ],
      "metadata": {
        "colab": {
          "base_uri": "https://localhost:8080/",
          "height": 266
        },
        "id": "Z5vamvEUkIJI",
        "outputId": "2098f71a-ec20-44a8-c39f-819768e17047"
      },
      "execution_count": null,
      "outputs": [
        {
          "output_type": "error",
          "ename": "TypeError",
          "evalue": "ignored",
          "traceback": [
            "\u001b[0;31m---------------------------------------------------------------------------\u001b[0m",
            "\u001b[0;31mTypeError\u001b[0m                                 Traceback (most recent call last)",
            "\u001b[0;32m<ipython-input-8-506569634545>\u001b[0m in \u001b[0;36m<module>\u001b[0;34m()\u001b[0m\n\u001b[0;32m----> 1\u001b[0;31m \u001b[0mclasses\u001b[0m\u001b[0;34m,\u001b[0m \u001b[0mclass_to_idx\u001b[0m\u001b[0;34m,\u001b[0m \u001b[0mlength\u001b[0m\u001b[0;34m,\u001b[0m \u001b[0mtotal_file_list\u001b[0m\u001b[0;34m,\u001b[0m \u001b[0mtotal_label\u001b[0m \u001b[0;34m=\u001b[0m \u001b[0mMyGetInfoFromFolder\u001b[0m\u001b[0;34m(\u001b[0m\u001b[0mimg_dir\u001b[0m\u001b[0;34m)\u001b[0m\u001b[0;34m\u001b[0m\u001b[0;34m\u001b[0m\u001b[0m\n\u001b[0m\u001b[1;32m      2\u001b[0m \u001b[0mprint\u001b[0m\u001b[0;34m(\u001b[0m\u001b[0mclasses\u001b[0m\u001b[0;34m)\u001b[0m\u001b[0;34m\u001b[0m\u001b[0;34m\u001b[0m\u001b[0m\n\u001b[1;32m      3\u001b[0m \u001b[0mprint\u001b[0m\u001b[0;34m(\u001b[0m\u001b[0mclass_to_idx\u001b[0m\u001b[0;34m)\u001b[0m\u001b[0;34m\u001b[0m\u001b[0;34m\u001b[0m\u001b[0m\n\u001b[1;32m      4\u001b[0m \u001b[0mprint\u001b[0m\u001b[0;34m(\u001b[0m\u001b[0mlength\u001b[0m\u001b[0;34m)\u001b[0m\u001b[0;34m\u001b[0m\u001b[0;34m\u001b[0m\u001b[0m\n\u001b[1;32m      5\u001b[0m \u001b[0mprint\u001b[0m\u001b[0;34m(\u001b[0m\u001b[0mtotal_file_list\u001b[0m\u001b[0;34m[\u001b[0m\u001b[0;36m0\u001b[0m\u001b[0;34m]\u001b[0m\u001b[0;34m)\u001b[0m\u001b[0;34m\u001b[0m\u001b[0;34m\u001b[0m\u001b[0m\n",
            "\u001b[0;31mTypeError\u001b[0m: cannot unpack non-iterable NoneType object"
          ]
        }
      ]
    },
    {
      "cell_type": "code",
      "source": [
        "class MyGetInfoFromFolder(Dataset):\n",
        "  def __init__ (self, ipath,\n",
        "                transform=transforms.ToTensor()):\n",
        "    self.classes, self.class_to_idx, self.lenght, self.flist, self.labels = MyGetInfoFromFolder(ipath)\n",
        "\n",
        "    self.root_dir = ipath\n",
        "    self.transform=transform\n",
        "\n",
        "    def __len__(self):\n",
        "      return self.length\n",
        "\n",
        "    def __getitem__(self, idx):\n",
        "      img = Image.open(self.flist[idx])\n",
        "\n",
        "      if (img.mode!=\"RGB\"):\n",
        "        img = img.convert(mode=\"RGB\")\n",
        "\n",
        "      img = self.transform(img)\n",
        "\n",
        "      label = self.labels[idx]\n",
        "\n",
        "      return img, label"
      ],
      "metadata": {
        "colab": {
          "base_uri": "https://localhost:8080/",
          "height": 266
        },
        "id": "YT-pnzrBExww",
        "outputId": "4646af96-c328-4a68-8bfd-0d552313dbc9"
      },
      "execution_count": null,
      "outputs": [
        {
          "output_type": "error",
          "ename": "NameError",
          "evalue": "ignored",
          "traceback": [
            "\u001b[0;31m---------------------------------------------------------------------------\u001b[0m",
            "\u001b[0;31mNameError\u001b[0m                                 Traceback (most recent call last)",
            "\u001b[0;32m<ipython-input-9-c419e72b58d1>\u001b[0m in \u001b[0;36m<module>\u001b[0;34m()\u001b[0m\n\u001b[0;32m----> 1\u001b[0;31m \u001b[0;32mclass\u001b[0m \u001b[0mMyGetInfoFromFolder\u001b[0m\u001b[0;34m(\u001b[0m\u001b[0mDataset\u001b[0m\u001b[0;34m)\u001b[0m\u001b[0;34m:\u001b[0m\u001b[0;34m\u001b[0m\u001b[0;34m\u001b[0m\u001b[0m\n\u001b[0m\u001b[1;32m      2\u001b[0m   def __init__ (self, ipath,\n\u001b[1;32m      3\u001b[0m                 transform=transforms.ToTensor()):\n\u001b[1;32m      4\u001b[0m     \u001b[0mself\u001b[0m\u001b[0;34m.\u001b[0m\u001b[0mclasses\u001b[0m\u001b[0;34m,\u001b[0m \u001b[0mself\u001b[0m\u001b[0;34m.\u001b[0m\u001b[0mclass_to_idx\u001b[0m\u001b[0;34m,\u001b[0m \u001b[0mself\u001b[0m\u001b[0;34m.\u001b[0m\u001b[0mlenght\u001b[0m\u001b[0;34m,\u001b[0m \u001b[0mself\u001b[0m\u001b[0;34m.\u001b[0m\u001b[0mflist\u001b[0m\u001b[0;34m,\u001b[0m \u001b[0mself\u001b[0m\u001b[0;34m.\u001b[0m\u001b[0mlabels\u001b[0m \u001b[0;34m=\u001b[0m \u001b[0mMyGetInfoFromFolder\u001b[0m\u001b[0;34m(\u001b[0m\u001b[0mipath\u001b[0m\u001b[0;34m)\u001b[0m\u001b[0;34m\u001b[0m\u001b[0;34m\u001b[0m\u001b[0m\n\u001b[1;32m      5\u001b[0m \u001b[0;34m\u001b[0m\u001b[0m\n",
            "\u001b[0;31mNameError\u001b[0m: name 'Dataset' is not defined"
          ]
        }
      ]
    },
    {
      "cell_type": "code",
      "source": [
        "my_train = MyGetInfoFromFolder(img_dir,\n",
        "                               transforms.Compose([transforms.Resize((imgsize, imgsize)),\n",
        "                                                   transforms.ToTensor()]\n",
        "                               ))\n",
        "                               "
      ],
      "metadata": {
        "colab": {
          "base_uri": "https://localhost:8080/",
          "height": 266
        },
        "id": "VaTyuzR-Ex5M",
        "outputId": "8ba68e29-03a4-45f5-a98e-c7f1819855d9"
      },
      "execution_count": null,
      "outputs": [
        {
          "output_type": "error",
          "ename": "TypeError",
          "evalue": "ignored",
          "traceback": [
            "\u001b[0;31m---------------------------------------------------------------------------\u001b[0m",
            "\u001b[0;31mTypeError\u001b[0m                                 Traceback (most recent call last)",
            "\u001b[0;32m<ipython-input-10-c403a4f6b15a>\u001b[0m in \u001b[0;36m<module>\u001b[0;34m()\u001b[0m\n\u001b[1;32m      1\u001b[0m my_train = MyGetInfoFromFolder(img_dir,\n\u001b[1;32m      2\u001b[0m                                transforms.Compose([transforms.Resize((imgsize, imgsize)),\n\u001b[0;32m----> 3\u001b[0;31m                                                    transforms.ToTensor()]\n\u001b[0m\u001b[1;32m      4\u001b[0m                                ))\n\u001b[1;32m      5\u001b[0m \u001b[0;34m\u001b[0m\u001b[0m\n",
            "\u001b[0;31mTypeError\u001b[0m: MyGetInfoFromFolder() takes 1 positional argument but 2 were given"
          ]
        }
      ]
    },
    {
      "cell_type": "code",
      "source": [
        "nclass = len(my_train.classes)\n",
        "print (\"# of classes(클래스 개수): %d\" %nclass)\n",
        "\n",
        "print (\"클래이 이름:\", my_train.classes)\n",
        "print (\"클래스별 인덱스:\", my_train.class_to_idx)\n",
        "print (\"my_train 개수:\", my_train.__len__())"
      ],
      "metadata": {
        "colab": {
          "base_uri": "https://localhost:8080/",
          "height": 248
        },
        "id": "yjGiQ0nvEx7z",
        "outputId": "5691f073-84fd-4d44-c69f-186afb58c437"
      },
      "execution_count": null,
      "outputs": [
        {
          "output_type": "error",
          "ename": "NameError",
          "evalue": "ignored",
          "traceback": [
            "\u001b[0;31m---------------------------------------------------------------------------\u001b[0m",
            "\u001b[0;31mNameError\u001b[0m                                 Traceback (most recent call last)",
            "\u001b[0;32m<ipython-input-11-ec458881444c>\u001b[0m in \u001b[0;36m<module>\u001b[0;34m()\u001b[0m\n\u001b[0;32m----> 1\u001b[0;31m \u001b[0mnclass\u001b[0m \u001b[0;34m=\u001b[0m \u001b[0mlen\u001b[0m\u001b[0;34m(\u001b[0m\u001b[0mmy_train\u001b[0m\u001b[0;34m.\u001b[0m\u001b[0mclasses\u001b[0m\u001b[0;34m)\u001b[0m\u001b[0;34m\u001b[0m\u001b[0;34m\u001b[0m\u001b[0m\n\u001b[0m\u001b[1;32m      2\u001b[0m \u001b[0mprint\u001b[0m \u001b[0;34m(\u001b[0m\u001b[0;34m\"# of classes(클래스 개수): %d\"\u001b[0m \u001b[0;34m%\u001b[0m\u001b[0mnclass\u001b[0m\u001b[0;34m)\u001b[0m\u001b[0;34m\u001b[0m\u001b[0;34m\u001b[0m\u001b[0m\n\u001b[1;32m      3\u001b[0m \u001b[0;34m\u001b[0m\u001b[0m\n\u001b[1;32m      4\u001b[0m \u001b[0mprint\u001b[0m \u001b[0;34m(\u001b[0m\u001b[0;34m\"클래이 이름:\"\u001b[0m\u001b[0;34m,\u001b[0m \u001b[0mmy_train\u001b[0m\u001b[0;34m.\u001b[0m\u001b[0mclasses\u001b[0m\u001b[0;34m)\u001b[0m\u001b[0;34m\u001b[0m\u001b[0;34m\u001b[0m\u001b[0m\n\u001b[1;32m      5\u001b[0m \u001b[0mprint\u001b[0m \u001b[0;34m(\u001b[0m\u001b[0;34m\"클래스별 인덱스:\"\u001b[0m\u001b[0;34m,\u001b[0m \u001b[0mmy_train\u001b[0m\u001b[0;34m.\u001b[0m\u001b[0mclass_to_idx\u001b[0m\u001b[0;34m)\u001b[0m\u001b[0;34m\u001b[0m\u001b[0;34m\u001b[0m\u001b[0m\n",
            "\u001b[0;31mNameError\u001b[0m: name 'my_train' is not defined"
          ]
        }
      ]
    },
    {
      "cell_type": "code",
      "source": [
        "for i in range(3):\n",
        "  img = my_train[i][0]\n",
        "  img = np.transpose(img, 1,2,0))\n",
        "\n",
        "    plt.title(\"lavel: %d\" %my_train[i][1] )\n",
        "    plt.imshow(img)\n",
        "    plt.show()\n",
        "\n",
        "    print(img.shape)"
      ],
      "metadata": {
        "colab": {
          "base_uri": "https://localhost:8080/",
          "height": 137
        },
        "id": "RHexGzH3Ex-o",
        "outputId": "a7bcf69e-71d9-4ba7-cf7f-86d2dcee201e"
      },
      "execution_count": null,
      "outputs": [
        {
          "output_type": "error",
          "ename": "SyntaxError",
          "evalue": "ignored",
          "traceback": [
            "\u001b[0;36m  File \u001b[0;32m\"<ipython-input-17-dbd64f33454d>\"\u001b[0;36m, line \u001b[0;32m3\u001b[0m\n\u001b[0;31m    img = np.transpose(img, 1,2,0))\u001b[0m\n\u001b[0m                                  ^\u001b[0m\n\u001b[0;31mSyntaxError\u001b[0m\u001b[0;31m:\u001b[0m invalid syntax\n"
          ]
        }
      ]
    },
    {
      "cell_type": "code",
      "source": [
        "batch_size= 3"
      ],
      "metadata": {
        "id": "PqGtF1icH0wC"
      },
      "execution_count": null,
      "outputs": []
    },
    {
      "cell_type": "code",
      "source": [
        "rain_loader = data.DataLoader(my_train, batch_size=batch_size,\n",
        "                               shuffle=False, num_workers=2,\n",
        "                               drop_last=True)"
      ],
      "metadata": {
        "id": "-ML7QvdgH0t0"
      },
      "execution_count": null,
      "outputs": []
    },
    {
      "cell_type": "code",
      "source": [
        "n = 3\n",
        "for i, [imgs, labels] in enumerate(train_loader):\n",
        "    if i>5:\n",
        "        break\n",
        "\n",
        "    print (\"[%d]\" %i)\n",
        "    print (\"한 번에 로드되는 데이터 크기:\", len(imgs))\n",
        "\n",
        "    x = Variable(imgs)\n",
        "    y_ = Variable(labels)\n",
        "\n",
        "    print(x.shape)\n",
        "    print(y_.shape)\n",
        "\n",
        "    for j in range(n):\n",
        "        img = imgs[j].numpy()\n",
        "        img = np.transpose(img, (1, 2, 0))\n",
        "\n",
        "        plt.subplot(1, n, j+1)\n",
        "        plt.imshow(img)\n",
        "        plt.title(\"label: %d\" %labels[j] )\n",
        "        plt.show()"
      ],
      "metadata": {
        "colab": {
          "base_uri": "https://localhost:8080/",
          "height": 248
        },
        "id": "Is5C2hEVH0rk",
        "outputId": "ced5aa5d-082e-4b65-bcec-5d888bf21b1b"
      },
      "execution_count": null,
      "outputs": [
        {
          "output_type": "error",
          "ename": "NameError",
          "evalue": "ignored",
          "traceback": [
            "\u001b[0;31m---------------------------------------------------------------------------\u001b[0m",
            "\u001b[0;31mNameError\u001b[0m                                 Traceback (most recent call last)",
            "\u001b[0;32m<ipython-input-21-871eda6bb043>\u001b[0m in \u001b[0;36m<module>\u001b[0;34m()\u001b[0m\n\u001b[1;32m      1\u001b[0m \u001b[0mn\u001b[0m \u001b[0;34m=\u001b[0m \u001b[0;36m3\u001b[0m\u001b[0;34m\u001b[0m\u001b[0;34m\u001b[0m\u001b[0m\n\u001b[0;32m----> 2\u001b[0;31m \u001b[0;32mfor\u001b[0m \u001b[0mi\u001b[0m\u001b[0;34m,\u001b[0m \u001b[0;34m[\u001b[0m\u001b[0mimgs\u001b[0m\u001b[0;34m,\u001b[0m \u001b[0mlabels\u001b[0m\u001b[0;34m]\u001b[0m \u001b[0;32min\u001b[0m \u001b[0menumerate\u001b[0m\u001b[0;34m(\u001b[0m\u001b[0mtrain_loader\u001b[0m\u001b[0;34m)\u001b[0m\u001b[0;34m:\u001b[0m\u001b[0;34m\u001b[0m\u001b[0;34m\u001b[0m\u001b[0m\n\u001b[0m\u001b[1;32m      3\u001b[0m     \u001b[0;32mif\u001b[0m \u001b[0mi\u001b[0m\u001b[0;34m>\u001b[0m\u001b[0;36m5\u001b[0m\u001b[0;34m:\u001b[0m\u001b[0;34m\u001b[0m\u001b[0;34m\u001b[0m\u001b[0m\n\u001b[1;32m      4\u001b[0m         \u001b[0;32mbreak\u001b[0m\u001b[0;34m\u001b[0m\u001b[0;34m\u001b[0m\u001b[0m\n\u001b[1;32m      5\u001b[0m \u001b[0;34m\u001b[0m\u001b[0m\n",
            "\u001b[0;31mNameError\u001b[0m: name 'train_loader' is not defined"
          ]
        }
      ]
    },
    {
      "cell_type": "code",
      "source": [
        ""
      ],
      "metadata": {
        "id": "JQNKk5IuEyBB"
      },
      "execution_count": null,
      "outputs": []
    }
  ]
}